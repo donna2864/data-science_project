{
  "nbformat": 4,
  "nbformat_minor": 0,
  "metadata": {
    "colab": {
      "provenance": [],
      "include_colab_link": true
    },
    "kernelspec": {
      "name": "python3",
      "display_name": "Python 3"
    },
    "language_info": {
      "name": "python"
    }
  },
  "cells": [
    {
      "cell_type": "markdown",
      "metadata": {
        "id": "view-in-github",
        "colab_type": "text"
      },
      "source": [
        "<a href=\"https://colab.research.google.com/github/donna2864/data-science_project/blob/main/project.ipynb\" target=\"_parent\"><img src=\"https://colab.research.google.com/assets/colab-badge.svg\" alt=\"Open In Colab\"/></a>"
      ]
    },
    {
      "cell_type": "markdown",
      "source": [
        "#DATA CLEANING"
      ],
      "metadata": {
        "id": "E2ToNh5pxIZM"
      }
    },
    {
      "cell_type": "code",
      "source": [
        "import pandas as pd\n",
        "import numpy as np\n",
        "df = pd.read_csv('stroke-visual.csv') \n",
        "df.head() \n",
        "print(df.head())\n",
        "#df.drop_duplicates(subset=None, keep='first', inplace=False,ignore_index=False)\n",
        "ef= df.drop_duplicates()\n",
        "print(ef)\n",
        "#print(df.duplicated().sum())\n",
        "#df = df.isnull()\n",
        "#print(df)\n",
        "#df = df.fillna(0)\n",
        "#print(df)"
      ],
      "metadata": {
        "id": "Na7C3rLxA9Vh",
        "colab": {
          "base_uri": "https://localhost:8080/"
        },
        "outputId": "29710be4-8a50-4f8c-d828-727a0887162a"
      },
      "execution_count": null,
      "outputs": [
        {
          "output_type": "stream",
          "name": "stdout",
          "text": [
            "      id  gender    age  hypertension  heart_disease ever_married  \\\n",
            "0  25489    Male   50.0             1              0          Yes   \n",
            "1   2658  Female   68.0             0              1          Yes   \n",
            "2  25489    Male   50.0             1              0          Yes   \n",
            "3   9876  Female  125.0             1              1          Yes   \n",
            "4  26569    Male   70.0             0              1          Yes   \n",
            "\n",
            "       work_type Residence_type  avg_glucose_level   bmi   smoking_status  \\\n",
            "0  Self-employed          Urban             186.21   NaN  formerly smoked   \n",
            "1   Never_worked          Rural             104.12  36.8     never smoked   \n",
            "2  Self-employed          Urban             186.21   NaN  formerly smoked   \n",
            "3        Private          Urban              89.22   NaN          Unknown   \n",
            "4       Govt_job          Urban             105.60  28.5     never smoked   \n",
            "\n",
            "   stroke  \n",
            "0       1  \n",
            "1       0  \n",
            "2       1  \n",
            "3       0  \n",
            "4       0  \n",
            "         id  gender    age  hypertension  heart_disease ever_married  \\\n",
            "0     25489    Male   50.0             1              0          Yes   \n",
            "1      2658  Female   68.0             0              1          Yes   \n",
            "3      9876  Female  125.0             1              1          Yes   \n",
            "4     26569    Male   70.0             0              1          Yes   \n",
            "5      9046    Male   67.0             0              1          Yes   \n",
            "...     ...     ...    ...           ...            ...          ...   \n",
            "5110  18234  Female   80.0             1              0          Yes   \n",
            "5111  44873  Female   81.0             0              0          Yes   \n",
            "5112  19723  Female   35.0             0              0          Yes   \n",
            "5113  37544    Male   51.0             0              0          Yes   \n",
            "5114  44679  Female   44.0             0              0          Yes   \n",
            "\n",
            "          work_type Residence_type  avg_glucose_level   bmi   smoking_status  \\\n",
            "0     Self-employed          Urban             186.21   NaN  formerly smoked   \n",
            "1      Never_worked          Rural             104.12  36.8     never smoked   \n",
            "3           Private          Urban              89.22   NaN          Unknown   \n",
            "4          Govt_job          Urban             105.60  28.5     never smoked   \n",
            "5           Private          Urban             228.69  36.6  formerly smoked   \n",
            "...             ...            ...                ...   ...              ...   \n",
            "5110        Private          Urban              83.75   NaN     never smoked   \n",
            "5111  Self-employed          Urban             125.20  40.0     never smoked   \n",
            "5112  Self-employed          Rural              82.99  30.6     never smoked   \n",
            "5113        Private          Rural             166.29  25.6  formerly smoked   \n",
            "5114       Govt_job          Urban              85.28  26.2          Unknown   \n",
            "\n",
            "      stroke  \n",
            "0          1  \n",
            "1          0  \n",
            "3          0  \n",
            "4          0  \n",
            "5          1  \n",
            "...      ...  \n",
            "5110       0  \n",
            "5111       0  \n",
            "5112       0  \n",
            "5113       0  \n",
            "5114       0  \n",
            "\n",
            "[5114 rows x 12 columns]\n"
          ]
        }
      ]
    },
    {
      "cell_type": "markdown",
      "source": [
        "#DATA VISUALIZATION"
      ],
      "metadata": {
        "id": "Agmxdy-WscU0"
      }
    },
    {
      "cell_type": "markdown",
      "source": [
        "bar chart"
      ],
      "metadata": {
        "id": "hkoc2nEAvkmT"
      }
    },
    {
      "cell_type": "code",
      "source": [
        "import matplotlib.pyplot as plt\n",
        "import csv\n",
        "  \n",
        "x = []\n",
        "y = []\n",
        "  \n",
        "with open('healthcare-dataset-stroke-data.csv','r') as csvfile:\n",
        "    plots = csv.reader(csvfile, delimiter = ',')\n",
        "      \n",
        "    for row in plots:\n",
        "        x.append(row[0])\n",
        "        y.append(row[2])\n",
        "  \n",
        "plt.bar(x, y, color = 'g', width = 1, label = \"Residence\")\n",
        "plt.xlabel('Residence')\n",
        "plt.ylabel('stroke')\n",
        "plt.title('Ages of different persons')\n",
        "plt.legend()\n",
        "plt.show()"
      ],
      "metadata": {
        "colab": {
          "base_uri": "https://localhost:8080/",
          "height": 295
        },
        "id": "JuHWqhJAuHmF",
        "outputId": "3d68c1e6-eab5-48de-fd8f-5c9e10f8ab1d"
      },
      "execution_count": null,
      "outputs": [
        {
          "output_type": "display_data",
          "data": {
            "text/plain": [
              "<Figure size 432x288 with 1 Axes>"
            ],
            "image/png": "[encoded data removed]"
          },
          "metadata": {
            "needs_background": "light"
          }
        }
      ]
    },
    {
      "cell_type": "code",
      "source": [
        "import matplotlib.pyplot as plt\n",
        "import csv\n",
        "  \n",
        "x = []\n",
        "y = []\n",
        "  \n",
        "with open('healthcare-dataset-stroke-data.csv','r') as csvfile:\n",
        "    plots = csv.reader(csvfile, delimiter = ',')\n",
        "      \n",
        "    for row in plots:\n",
        "        y.append(row[11])\n",
        "        x.append(row[7])\n",
        "  \n",
        "plt.bar(x, y, color = 'g' 'y', width = 0.72)\n",
        "plt.xlabel('Residence')\n",
        "plt.ylabel('stroke')\n",
        "plt.title('residence v/s stroke')\n",
        "plt.legend()\n",
        "plt.show()"
      ],
      "metadata": {
        "id": "p4EqNpqU0NV9",
        "colab": {
          "base_uri": "https://localhost:8080/",
          "height": 368
        },
        "outputId": "608f09a9-1bbc-469d-d55f-1c8638de82b3"
      },
      "execution_count": null,
      "outputs": [
        {
          "output_type": "stream",
          "name": "stderr",
          "text": [
            "/usr/local/lib/python3.7/dist-packages/ipykernel_launcher.py:14: MatplotlibDeprecationWarning: Using a string of single character colors as a color sequence is deprecated. Use an explicit list instead.\n",
            "  \n",
            "WARNING:matplotlib.legend:No handles with labels found to put in legend.\n"
          ]
        },
        {
          "output_type": "display_data",
          "data": {
            "text/plain": [
              "<Figure size 432x288 with 1 Axes>"
            ],
            "image/png": "[encoded data removed]"
          },
          "metadata": {
            "needs_background": "light"
          }
        }
      ]
    },
    {
      "cell_type": "markdown",
      "source": [
        "scatter plot"
      ],
      "metadata": {
        "id": "BypK9C54vtXa"
      }
    },
    {
      "cell_type": "code",
      "source": [
        "import matplotlib.pyplot as plt\n",
        "import csv\n",
        "\n",
        "Names = []\n",
        "Values = []\n",
        "\n",
        "with open('data-visual.csv','r') as csvfile:\n",
        "\tlines = csv.reader(csvfile, delimiter=',')\n",
        "\tfor row in lines:\n",
        "\t\tNames.append(row[0])\n",
        "\t\tValues.append(row[1])\n",
        "\n",
        "plt.scatter(Names, Values, color = 'g',s = 100)\n",
        "plt.xticks(rotation = 25)\n",
        "plt.xlabel('data')\n",
        "plt.ylabel('stroke')\n",
        "plt.title('scatter plot', fontsize = 20)\n",
        "\n",
        "plt.show()\n"
      ],
      "metadata": {
        "colab": {
          "base_uri": "https://localhost:8080/",
          "height": 313
        },
        "id": "KIb9-ZR2vs7v",
        "outputId": "8ff68c41-5cfc-43f2-f506-53d456d151ed"
      },
      "execution_count": null,
      "outputs": [
        {
          "output_type": "display_data",
          "data": {
            "text/plain": [
              "<Figure size 432x288 with 1 Axes>"
            ],
            "image/png": "[encoded data removed]"
          },
          "metadata": {
            "needs_background": "light"
          }
        }
      ]
    },
    {
      "cell_type": "markdown",
      "source": [
        "# DATA MINING"
      ],
      "metadata": {
        "id": "winl-niKsVGk"
      }
    },
    {
      "cell_type": "markdown",
      "source": [
        "linear regression"
      ],
      "metadata": {
        "id": "tmCrBVdogH1r"
      }
    },
    {
      "cell_type": "code",
      "source": [
        "import numpy as np\n",
        "import pandas as pd\n",
        "import matplotlib.pyplot as plt\n",
        "from sklearn.linear_model import LinearRegression\n",
        "df = pd.read_csv('healthcare-dataset-stroke-data.csv')\n",
        "x_train = df.iloc[:,:8].values\n",
        "y_train = df.iloc[:,11].values\n",
        "x_test = df.iloc[:,:8].values\n",
        "y_test = df.iloc[:,11].values\n",
        "regressor = LinearRegression()\n",
        "regressor.fit(x_train, y_train)\n",
        "y_pred = regressor.predict(x_test)\n",
        "print(y_pred)\n",
        "a = regressor.score(x_test, y_test)\n",
        "print(a)\n"
      ],
      "metadata": {
        "colab": {
          "base_uri": "https://localhost:8080/"
        },
        "id": "GnVeWROZTHSX",
        "outputId": "af37db37-ccd0-449f-83b6-6309c38b50d4"
      },
      "execution_count": null,
      "outputs": [
        {
          "output_type": "stream",
          "name": "stdout",
          "text": [
            "[0.14994151 0.07446423 0.18217832 ... 0.00071952 0.04156562 0.03904396]\n",
            "0.07531088563020427\n"
          ]
        }
      ]
    },
    {
      "cell_type": "markdown",
      "source": [
        "desicion tree"
      ],
      "metadata": {
        "id": "V6JaF-PBllcY"
      }
    },
    {
      "cell_type": "code",
      "source": [
        "import numpy as np\n",
        "import pandas as pd\n",
        "import matplotlib.pyplot as plt\n",
        "from sklearn.model_selection import train_test_split\n",
        "from sklearn.tree import DecisionTreeClassifier\n",
        "df = pd.read_csv('healthcare-dataset-stroke-data.csv')\n",
        "y=df.stroke.values\n",
        "x_data=df.drop([\"stroke\"], axis=1)\n",
        "x=(x_data-np.min(x_data))/(np.max(x_data) -np.min(x_data))\n",
        "x_train,x_test,y_train,y_test=train_test_split(x,y,test_size=0.15,random_state=42)\n",
        "dt= DecisionTreeClassifier()\n",
        "dt.fit(x_train,y_train)\n",
        "print(\"score :\",dt.score(x_test,y_test))"
      ],
      "metadata": {
        "colab": {
          "base_uri": "https://localhost:8080/"
        },
        "id": "bu_EUtuugLM3",
        "outputId": "ac437af8-2e01-41cf-fad4-f89d828a0075"
      },
      "execution_count": null,
      "outputs": [
        {
          "output_type": "stream",
          "name": "stdout",
          "text": [
            "score : 0.8970013037809648\n"
          ]
        }
      ]
    },
    {
      "cell_type": "markdown",
      "source": [
        "random forest"
      ],
      "metadata": {
        "id": "YR1DePWdlsa5"
      }
    },
    {
      "cell_type": "code",
      "source": [
        "import numpy as np\n",
        "import pandas as pd\n",
        "import matplotlib.pyplot as plt\n",
        "from sklearn.model_selection import train_test_split\n",
        "from sklearn.ensemble import RandomForestClassifier\n",
        "from sklearn import metrics\n",
        "df = pd.read_csv('healthcare-dataset-stroke-data.csv')\n",
        "x = df.iloc[:,0:10]\n",
        "y = df.iloc[:, 11]\n",
        "x_train,x_test,y_train,y_test = train_test_split(x, y, test_size=0.2, random_state=42)\n",
        "clf=RandomForestClassifier(n_estimators=100)\n",
        "clf.fit(x_train,y_train)\n",
        "y_pred=clf.predict(x_test)\n",
        "print(\"accuracy\",metrics.accuracy_score(y_test, y_pred))"
      ],
      "metadata": {
        "id": "iU7bdUoxlsFn",
        "colab": {
          "base_uri": "https://localhost:8080/"
        },
        "outputId": "20c99c36-5e29-494b-88e4-d0e6631ea926"
      },
      "execution_count": null,
      "outputs": [
        {
          "output_type": "stream",
          "name": "stdout",
          "text": [
            "accuracy 0.9403131115459883\n"
          ]
        }
      ]
    },
    {
      "cell_type": "markdown",
      "source": [
        "KNN Classifier"
      ],
      "metadata": {
        "id": "7gh_6S9fxyN_"
      }
    },
    {
      "cell_type": "code",
      "source": [
        "import numpy as np\n",
        "import pandas as pd\n",
        "from sklearn.model_selection import train_test_split\n",
        "from sklearn.neighbors import KNeighborsClassifier\n",
        "df = pd.read_csv('healthcare-dataset-stroke-data.csv')\n",
        "x = df.iloc[:,0:10]\n",
        "y = df.iloc[:, 11]\n",
        "x_train, x_test, y_train, y_test = train_test_split(x,y,test_size=0.33, random_state=6)\n",
        "clf = KNeighborsClassifier(n_neighbors=3) \n",
        "clf.fit(x_train, y_train)  \n",
        "print(clf.score(x_test, y_test))"
      ],
      "metadata": {
        "colab": {
          "base_uri": "https://localhost:8080/"
        },
        "id": "olowl2hexfPR",
        "outputId": "7adabadc-ac41-4ae9-8271-5e17657d1dae"
      },
      "execution_count": null,
      "outputs": [
        {
          "output_type": "stream",
          "name": "stdout",
          "text": [
            "0.939537640782454\n"
          ]
        }
      ]
    },
    {
      "cell_type": "markdown",
      "source": [
        "k means"
      ],
      "metadata": {
        "id": "vWFjY1irzEEb"
      }
    },
    {
      "cell_type": "code",
      "source": [
        "import numpy as np\n",
        "import pandas as pd\n",
        "import matplotlib.pyplot as plt\n",
        "from sklearn.cluster import KMeans\n",
        "from sklearn import datasets\n",
        "df = pd.read_csv('healthcare-dataset-stroke-data.csv')\n",
        "print(df.head(10))\n",
        "x = df.iloc[:, [3,4, 5, 6, 7, 8, 9, 10]].values\n",
        "y = df.iloc[:, 11]\n",
        "kmeans5 = KMeans(n_clusters=3)\n",
        "y_kmeans5 = kmeans5.fit_predict(x)\n",
        "print(y_kmeans5)"
      ],
      "metadata": {
        "colab": {
          "base_uri": "https://localhost:8080/"
        },
        "id": "LDxigRpn0LvU",
        "outputId": "740dee81-0fad-49b4-dcbf-035b8f32ae2a"
      },
      "execution_count": null,
      "outputs": [
        {
          "output_type": "stream",
          "name": "stdout",
          "text": [
            "      id  gender   age  hypertension  heart_disease  ever_married  work_type  \\\n",
            "0   9046       1  67.0             0              1             1          1   \n",
            "1  51676       0  61.0             0              0             1          2   \n",
            "2  31112       1  80.0             0              1             1          1   \n",
            "3  60182       0  49.0             0              0             1          1   \n",
            "4   1665       0  79.0             1              0             1          2   \n",
            "5  56669       1  81.0             0              0             1          1   \n",
            "6  53882       1  74.0             1              1             1          1   \n",
            "7  10434       0  69.0             0              0             0          1   \n",
            "8  27419       0  59.0             0              0             1          1   \n",
            "9  60491       0  78.0             0              0             1          1   \n",
            "\n",
            "   Residence_type  avg_glucose_level   bmi  smoking_status  stroke  \n",
            "0               2             228.69  36.6               1       1  \n",
            "1               1             202.21   0.0               2       1  \n",
            "2               1             105.92  32.5               2       1  \n",
            "3               2             171.23  34.4               3       1  \n",
            "4               1             174.12  24.0               2       1  \n",
            "5               2             186.21  29.0               1       1  \n",
            "6               1              70.09  27.4               2       1  \n",
            "7               2              94.39  22.8               2       1  \n",
            "8               1              76.15   0.0               4       1  \n",
            "9               2              58.57  24.2               4       1  \n",
            "[1 1 2 ... 0 1 0]\n"
          ]
        }
      ]
    },
    {
      "cell_type": "markdown",
      "source": [
        "SVM "
      ],
      "metadata": {
        "id": "3pRc2cxT8HKQ"
      }
    },
    {
      "cell_type": "code",
      "source": [
        "import numpy as np\n",
        "import matplotlib.pyplot as plt\n",
        "import pandas as pd\n",
        "dataset = pd.read_csv('healthcare-dataset-stroke-data.csv')\n",
        "X = dataset.iloc[:, [1, 10]].values\n",
        "y = dataset.iloc[:, 11].values\n",
        "from sklearn.model_selection import train_test_split\n",
        "X_train, X_test, y_train, y_test = train_test_split(X, y, test_size = 0.25, random_state = 0)\n",
        "from sklearn.linear_model import LogisticRegression\n",
        "classifier = LogisticRegression()\n",
        "classifier.fit(X_train, y_train)\n",
        "y_pred = classifier.predict(X_test)\n",
        "print(y_pred)\n",
        "a = classifier.score(X_test, y_test)\n",
        "print(a)"
      ],
      "metadata": {
        "colab": {
          "base_uri": "https://localhost:8080/"
        },
        "id": "qm-AVhSR8GoP",
        "outputId": "827a5927-7b93-44c2-8491-6da4e88d46a6"
      },
      "execution_count": null,
      "outputs": [
        {
          "output_type": "stream",
          "name": "stdout",
          "text": [
            "[0 0 0 ... 0 0 0]\n",
            "0.9491392801251957\n"
          ]
        }
      ]
    },
    {
      "cell_type": "markdown",
      "source": [
        "naive bayes"
      ],
      "metadata": {
        "id": "CBp5OPoOsqNH"
      }
    },
    {
      "cell_type": "code",
      "source": [
        "import numpy as np\n",
        "import pandas as pd\n",
        "from sklearn.model_selection import train_test_split\n",
        "from sklearn.naive_bayes import GaussianNB\n",
        "from sklearn.metrics import accuracy_score\n",
        "import matplotlib.pyplot as plt\n",
        "import seaborn as sns\n",
        "import csv \n",
        "df = pd.read_csv(\"healthcare-dataset-stroke-data.csv\")\n",
        "df.head()\n",
        "x=df.drop('stroke',axis=1)\n",
        "y=df['stroke']\n",
        "x_train,x_test,y_train,y_test = train_test_split(x,y,test_size=0.1,random_state=42)\n",
        "model=GaussianNB()\n",
        "model.fit(x_train,y_train)\n",
        "y_pred = model.predict(x_test)\n",
        "print(y_pred)\n",
        "a = model.score(x_test,y_test)\n",
        "print('\\nThe accuracy of the predicted data is',a)\n",
        "print('\\n',df.head())"
      ],
      "metadata": {
        "colab": {
          "base_uri": "https://localhost:8080/"
        },
        "id": "55wMehl5sRF7",
        "outputId": "089781d2-9b87-492e-87b2-7951b0e5208e"
      },
      "execution_count": null,
      "outputs": [
        {
          "output_type": "stream",
          "name": "stdout",
          "text": [
            "[0 0 0 0 0 1 0 0 0 0 0 0 0 0 0 0 0 0 0 0 0 0 0 0 0 0 0 0 0 0 0 0 0 0 0 0 0\n",
            " 0 0 0 0 0 0 0 0 0 0 0 0 0 0 0 1 0 0 0 0 1 0 0 0 0 0 0 0 0 0 0 0 1 0 0 0 0\n",
            " 0 0 0 0 0 0 0 0 0 0 0 0 0 0 0 0 0 0 0 0 0 0 0 0 0 0 0 0 0 0 1 0 0 0 0 0 0\n",
            " 0 0 0 0 0 0 0 0 0 0 0 0 0 0 0 0 0 0 0 0 0 0 0 0 0 0 0 0 0 0 0 0 0 0 0 0 0\n",
            " 1 0 0 0 1 0 0 0 0 0 0 1 0 0 0 0 0 0 0 0 0 0 0 0 0 0 1 0 0 0 0 0 0 0 0 0 0\n",
            " 0 0 0 0 0 0 0 0 0 0 0 0 0 1 0 0 0 0 1 0 0 0 0 0 0 0 0 0 0 0 0 0 0 0 0 0 0\n",
            " 0 0 1 0 0 0 0 0 0 0 0 0 0 0 0 0 0 0 0 0 0 0 0 0 1 0 0 0 0 1 0 0 0 0 0 0 0\n",
            " 0 0 0 0 0 0 0 0 0 0 0 0 0 0 0 0 0 0 0 0 0 0 1 0 0 0 0 1 0 0 0 0 0 0 0 0 0\n",
            " 0 0 0 0 0 0 0 0 0 0 0 0 0 0 0 0 1 0 0 0 0 0 0 0 0 0 0 0 0 0 0 0 0 0 0 0 0\n",
            " 0 1 0 0 0 0 0 0 0 0 0 0 0 0 1 0 0 0 0 0 0 0 0 0 0 0 0 0 0 0 0 0 0 0 0 0 0\n",
            " 1 0 0 0 0 1 0 0 0 0 0 0 0 1 0 0 0 0 0 0 0 0 0 0 0 0 0 0 0 0 0 0 0 0 0 0 0\n",
            " 0 0 0 0 0 0 0 0 0 0 0 1 0 0 0 0 0 0 0 0 0 0 0 0 0 0 0 0 0 0 0 0 0 0 0 0 0\n",
            " 0 0 0 0 0 0 0 0 0 0 0 0 0 0 0 0 1 0 0 0 0 0 0 0 0 0 0 0 0 0 0 0 0 0 0 0 0\n",
            " 1 0 0 0 0 0 0 0 0 0 0 0 0 0 0 0 0 0 0 0 0 0 0 0 0 0 0 0 1 0]\n",
            "\n",
            "The accuracy of the predicted data is 0.9256360078277887\n",
            "\n",
            "       id  gender   age  hypertension  heart_disease  ever_married  work_type  \\\n",
            "0   9046       1  67.0             0              1             1          1   \n",
            "1  51676       0  61.0             0              0             1          2   \n",
            "2  31112       1  80.0             0              1             1          1   \n",
            "3  60182       0  49.0             0              0             1          1   \n",
            "4   1665       0  79.0             1              0             1          2   \n",
            "\n",
            "   Residence_type  avg_glucose_level   bmi  smoking_status  stroke  \n",
            "0               2             228.69  36.6               1       1  \n",
            "1               1             202.21   0.0               2       1  \n",
            "2               1             105.92  32.5               2       1  \n",
            "3               2             171.23  34.4               3       1  \n",
            "4               1             174.12  24.0               2       1  \n"
          ]
        }
      ]
    }
  ]
}